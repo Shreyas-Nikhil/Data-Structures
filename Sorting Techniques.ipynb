{
 "cells": [
  {
   "cell_type": "markdown",
   "metadata": {},
   "source": [
    "# Searching and Sorting Algorithms"
   ]
  },
  {
   "cell_type": "code",
   "execution_count": 4,
   "metadata": {},
   "outputs": [
    {
     "name": "stdout",
     "output_type": "stream",
     "text": [
      "Enter the element to search : 10\n",
      "Element is present at index 3\n"
     ]
    }
   ],
   "source": [
    "#Binary Search Iterative\n",
    "def binary_search(arr,x):\n",
    "    low=0\n",
    "    high=len(arr)-1\n",
    "    mid=0\n",
    "    while low<=high:\n",
    "        mid=(high+low)//2\n",
    "        #check if x is present at mid\n",
    "        if arr[mid]<x:\n",
    "            low=mid+1\n",
    "        #if x is greater ignore left half\n",
    "        elif arr[mid]>x:\n",
    "            high=mid-1\n",
    "        #if x is smaller,ignore right half\n",
    "        else:\n",
    "            return mid\n",
    "    #if we rewach here then element was not present\n",
    "    return -1\n",
    "#Test array\n",
    "arr=[2,3,4,10,40]\n",
    "x=int(input(\"Enter the element to search : \"))\n",
    "#Function Call\n",
    "result=binary_search(arr,x)\n",
    "if result!=-1:\n",
    "    print(\"Element is present at index\",str(result))\n",
    "else:\n",
    "    print(\"Element is not present in the array\")"
   ]
  },
  {
   "cell_type": "code",
   "execution_count": 5,
   "metadata": {},
   "outputs": [
    {
     "name": "stdout",
     "output_type": "stream",
     "text": [
      "Element is present at index 4\n"
     ]
    }
   ],
   "source": [
    "#Binary Seaarch Recursive\n",
    "def binary_search(arr,low,high,x):\n",
    "    #Check base case\n",
    "    if high>=low:\n",
    "        mid=(high+low)//2\n",
    "        #if element is present at the middle itself \n",
    "        if arr[mid]==x:\n",
    "            return mid\n",
    "        #if element is smaller than mid,then it can only\n",
    "        #be present in the left subarray\n",
    "        elif arr[mid]>x:\n",
    "            return binary_search(arr,low,mid-1,x)\n",
    "        #else the element can only be present in right subarray\n",
    "        else:\n",
    "            return binary_search(arr,mid+1,high,x)\n",
    "    else:\n",
    "        #element is not present in the array\n",
    "        return -1\n",
    "#test array\n",
    "arr=[2,3,4,5,10,40]\n",
    "x=10\n",
    "#Function call\n",
    "result=binary_search(arr,0,len(arr)-1,x)\n",
    "if result != -1:\n",
    "    print(\"Element is present at index\",str(result))\n",
    "else:\n",
    "    print(\"Element was not present in array\")"
   ]
  },
  {
   "cell_type": "code",
   "execution_count": 6,
   "metadata": {},
   "outputs": [
    {
     "name": "stdout",
     "output_type": "stream",
     "text": [
      "Element is present at index 4\n"
     ]
    }
   ],
   "source": [
    "#linear Search\n",
    "def search(arr,x):\n",
    "    for i in range(len(arr)):\n",
    "        if arr[i]==x:\n",
    "            return i\n",
    "    return -1\n",
    "#test array\n",
    "arr=[2,3,4,5,10,40]\n",
    "x=10\n",
    "#Function call\n",
    "result=search(arr,x)\n",
    "if result != -1:\n",
    "    print(\"Element is present at index\",str(result))\n",
    "else:\n",
    "    print(\"Element was not present in array\")"
   ]
  },
  {
   "cell_type": "code",
   "execution_count": null,
   "metadata": {},
   "outputs": [],
   "source": []
  }
 ],
 "metadata": {
  "kernelspec": {
   "display_name": "Python 3",
   "language": "python",
   "name": "python3"
  },
  "language_info": {
   "codemirror_mode": {
    "name": "ipython",
    "version": 3
   },
   "file_extension": ".py",
   "mimetype": "text/x-python",
   "name": "python",
   "nbconvert_exporter": "python",
   "pygments_lexer": "ipython3",
   "version": "3.7.6"
  }
 },
 "nbformat": 4,
 "nbformat_minor": 4
}
